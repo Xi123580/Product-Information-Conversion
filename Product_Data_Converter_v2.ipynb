{
  "nbformat": 4,
  "nbformat_minor": 0,
  "metadata": {
    "colab": {
      "name": "Product Data Converter_v2.ipynb",
      "provenance": [],
      "authorship_tag": "ABX9TyP+BknbZqx8uOGSyADuwobL",
      "include_colab_link": true
    },
    "kernelspec": {
      "name": "python3",
      "display_name": "Python 3"
    },
    "language_info": {
      "name": "python"
    }
  },
  "cells": [
    {
      "cell_type": "markdown",
      "metadata": {
        "id": "view-in-github",
        "colab_type": "text"
      },
      "source": [
        "<a href=\"https://colab.research.google.com/github/Xi123580/Product-Information-Conversion/blob/main/Product_Data_Converter_v2.ipynb\" target=\"_parent\"><img src=\"https://colab.research.google.com/assets/colab-badge.svg\" alt=\"Open In Colab\"/></a>"
      ]
    },
    {
      "cell_type": "code",
      "execution_count": 7,
      "metadata": {
        "id": "g9ej7XMUO8Tt",
        "colab": {
          "base_uri": "https://localhost:8080/"
        },
        "outputId": "3a701dac-2eeb-4e41-e218-6a87f63ff816"
      },
      "outputs": [
        {
          "output_type": "stream",
          "name": "stdout",
          "text": [
            "             IPROD                                     IDESC                IMNOT1       IDRAW  SAPSBU  ILIST IMFRMC IFCI IMCMTH SAPNOR IPURC\n",
            "0      618003.1566               Spectinomycin Hydrochloride             觀黴素鹽酸鹽標準品  22189-32-8   781.0  10600      .    A     M2      Y   M2D\n",
            "1     1.00327.5000  HYDROCHLORIC ACID IN ETHANOL FOR MICROSC          鹽酸標準液配製在乙醇溶液         NaN   649.0   8600    IVD    S    NaN    NaN   M2B\n",
            "2  EPV0045000.1566                  Vancomycin hydrochloride                鹽酸萬古黴素   1404-93-9   823.0   9800     FD    A    NaN    NaN   M2D\n",
            "3    P3850000.1566  Pseudoephedrine hydrochloride *Precursor  鹽酸假麻黃素標準品,第四級管制先驅原料藥         NaN   823.0  12400    DEA    A    NaN    NaN   M2D\n",
            "4    Y0000218.1566       Ondansetron hydrochloride dihydrate                鹽酸昂丹司瓊         NaN   823.0   9600     NC    A    NaN    NaN   M2D\n"
          ]
        }
      ],
      "source": [
        "import pandas as pd\n",
        "import numpy as np\n",
        "# from time import perf_counter\n",
        "from google.colab import files\n",
        "import io\n",
        "# import time\n",
        "import datetime\n",
        "import os\n",
        "\n",
        "\n",
        "pd.set_option('max_columns', None)\n",
        "\n",
        "# 1. read file\n",
        "path = 'https://github.com/Xi123580/Product-Information-Conversion/blob/main/%E7%94%A2%E5%93%81%E8%B3%87%E8%A8%8A_%E5%8E%9F%E5%A7%8B%E8%B3%87%E6%96%99_%E6%AC%84%E4%BD%8D%E8%BD%89%E6%8F%9B%E8%A1%A8_%E8%B3%87%E6%96%99%E8%BD%89%E6%8F%9B%E8%A1%A8_20220421_1.xlsx?raw=true'\n",
        "df_rawData = pd.read_excel(path, sheet_name = 0)\n",
        "print(df_rawData.head().to_string())\n"
      ]
    },
    {
      "cell_type": "code",
      "source": [
        "# Page: 3~8\n",
        "def initial_sheet(Page:int):\n",
        "  df = pd.read_excel(path, sheet_name = Page, usecols = \"A, B\")\n",
        "  df.rename(columns={'原始資訊': 'Keys', '網頁呈現字眼': 'Values'}, inplace=True)\n",
        "  df = df.drop(0)\n",
        "  df = df.reset_index()\n",
        "  df = df.drop(columns=\"index\")\n",
        "\n",
        "  column_SAPSBU = []\n",
        "  column_Product = []\n",
        "  ConvertDict = {}\n",
        "  for i in range(len(df.values[:])):\n",
        "    column_SAPSBU.append(df.values[i][0])\n",
        "    column_Product.append(df.values[i][1])\n",
        "    ConvertDict[column_SAPSBU[i]] = column_Product[i]\n",
        "  return(ConvertDict)"
      ],
      "metadata": {
        "id": "F-8l97HASYA5"
      },
      "execution_count": 2,
      "outputs": []
    },
    {
      "cell_type": "code",
      "source": [
        "Rule_SAPSBU = initial_sheet(2)\n",
        "Rule_IMFRMC = initial_sheet(3)\n",
        "Rule_IMCMTH = initial_sheet(4)\n",
        "Rule_IFCI = initial_sheet(5)\n",
        "Rule_SAPNOR = initial_sheet(6)\n",
        "Rule_IPURC = initial_sheet(7)\n",
        "print(Rule_IFCI)\n",
        "print(Rule_IMCMTH)"
      ],
      "metadata": {
        "id": "Ai_jtrDCoiIK",
        "colab": {
          "base_uri": "https://localhost:8080/"
        },
        "outputId": "139294c1-eb89-480c-e23d-bbd1f0e223b8"
      },
      "execution_count": 3,
      "outputs": [
        {
          "output_type": "stream",
          "name": "stdout",
          "text": [
            "{'A': '空運', 'AIR': '空運', 'C': '空運', 'L': '請洽默克窗口', 'N': '請洽默克窗口', nan: '請洽默克窗口', 'P': '空運', 'PAX': '空運', 'S': '海運', 'SEA': '海運', 'Y': '請洽默克窗口'}\n",
            "{7: '已停產', 99: '需法規審核', 'M1': '已停產', 'M2': '已停產', 'YY': '已停產'}\n"
          ]
        }
      ]
    },
    {
      "cell_type": "code",
      "source": [
        "# upload file ( .xlsx )\n",
        "print(\"請上傳Excel檔 (副檔名須為.xlsx): \")\n",
        "uploaded = files.upload()\n",
        "# Start_1 = perf_counter()\n",
        "filename = next(iter(uploaded))\n",
        "uploaded = pd.read_excel(io.BytesIO(uploaded.get(f'{filename}')), dtype=str)\n",
        "print(uploaded.head(3).to_string())"
      ],
      "metadata": {
        "colab": {
          "resources": {
            "http://localhost:8080/nbextensions/google.colab/files.js": {
              "data": "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",
              "ok": true,
              "headers": [
                [
                  "content-type",
                  "application/javascript"
                ]
              ],
              "status": 200,
              "status_text": ""
            }
          },
          "base_uri": "https://localhost:8080/",
          "height": 182
        },
        "id": "gwNu1X1PrXGX",
        "outputId": "61b6bf1b-b5a4-4761-c9ea-2e94065fee00"
      },
      "execution_count": 4,
      "outputs": [
        {
          "output_type": "stream",
          "name": "stdout",
          "text": [
            "請上傳Excel檔 (副檔名須為.xlsx): \n"
          ]
        },
        {
          "output_type": "display_data",
          "data": {
            "text/plain": [
              "<IPython.core.display.HTML object>"
            ],
            "text/html": [
              "\n",
              "     <input type=\"file\" id=\"files-0e218e74-47c5-4783-9f3f-68317fc3dac5\" name=\"files[]\" multiple disabled\n",
              "        style=\"border:none\" />\n",
              "     <output id=\"result-0e218e74-47c5-4783-9f3f-68317fc3dac5\">\n",
              "      Upload widget is only available when the cell has been executed in the\n",
              "      current browser session. Please rerun this cell to enable.\n",
              "      </output>\n",
              "      <script src=\"/nbextensions/google.colab/files.js\"></script> "
            ]
          },
          "metadata": {}
        },
        {
          "output_type": "stream",
          "name": "stdout",
          "text": [
            "Saving IIM_Product_List (1).xlsx to IIM_Product_List (1).xlsx\n",
            "         IPROD                                     IDESC                                    IMNOT1      IDRAW SAPSBU ILIST IMFRMC IFCI IMCMTH SAPNOR IPURC\n",
            "0  185450-100G  Phenol, unstabilized, ReagentPlus, >=99%  GUS: PHENOL, UNSTABILIZED, REAGENTPLUS(R   108-95-2    774  2900    NaN    A    NaN    NaN   M2A\n",
            "1    I2215-25G                            5-INDANOL, 99%                       GUS: 5-INDANOL, 99%  1470-94-6    774  3200      .    A    NaN    NaN   M2A\n",
            "2  110388-25ML                    BUTYLCYCLOHEXANE, 99+%                    BUTYLCYCLOHEXANE, 99+%  1678-93-9    774  2600      .    A    NaN    NaN   M2A\n"
          ]
        }
      ]
    },
    {
      "cell_type": "code",
      "source": [
        "# 3. build table\n",
        "# Start_2 = perf_counter()\n",
        "New_df = uploaded.copy()\n",
        "\n",
        "print(New_df.keys())\n",
        "print(New_df.shape)\n",
        "Number_columns = New_df.shape[1]\n",
        "Number_row = New_df.shape[0]\n",
        "New_df = New_df.fillna(0)\n",
        "\n",
        "# figure out table\n",
        "for col in range(Number_columns):\n",
        "  Col_Name = df_rawData.keys()[col]\n",
        "  if Col_Name == \"SAPSBU\":\n",
        "    # New_df[Col_Name] = New_df[Col_Name].apply(int)\n",
        "    New_df[Col_Name] = New_df[Col_Name].apply(str)\n",
        "    for row in range(Number_row):\n",
        "      data = New_df.at[row, Col_Name]\n",
        "      if data in Rule_SAPSBU:\n",
        "        x = Rule_SAPSBU[data]\n",
        "        New_df.at[row, Col_Name] = x\n",
        "      else:\n",
        "        New_df.at[row, Col_Name] = \"-\"\n",
        "  elif Col_Name == \"IMFRMC\":\n",
        "    New_df[Col_Name] = New_df[Col_Name].apply(str)\n",
        "    for row in range(Number_row):\n",
        "      data = New_df.at[row, Col_Name]\n",
        "      if data in Rule_IMFRMC:\n",
        "        x = Rule_IMFRMC[data]\n",
        "        New_df.at[row, Col_Name] = x\n",
        "      elif data == \"0\":\n",
        "        New_df.at[row, Col_Name] = \"無管制_但請再確認注意事項\"\n",
        "      else:\n",
        "        New_df.at[row, Col_Name] = \"請洽默克窗口\"\n",
        "  elif Col_Name == \"IFCI\":\n",
        "    New_df[Col_Name] = New_df[Col_Name].apply(str)\n",
        "    for row in range(Number_row):\n",
        "      data = New_df.at[row, Col_Name]\n",
        "      if data in Rule_IFCI:\n",
        "        x = Rule_IFCI[data]\n",
        "        New_df.at[row, Col_Name] = x\n",
        "      elif data == \"0\":\n",
        "        New_df.at[row, Col_Name] = \"-\"\n",
        "      else:\n",
        "        New_df.at[row, Col_Name] = \"請洽默克窗口\"\n",
        "  elif Col_Name == \"IMCMTH\":\n",
        "    New_df[Col_Name] = New_df[Col_Name].apply(str)\n",
        "    for row in range(Number_row):\n",
        "      data = New_df.at[row, Col_Name]\n",
        "      if data in Rule_IMCMTH:\n",
        "        x = Rule_IMCMTH[data]\n",
        "        New_df.at[row, Col_Name] = x\n",
        "      elif data == \"0\":\n",
        "        New_df.at[row, Col_Name] = \"-\"\n",
        "      else:\n",
        "        New_df.at[row, Col_Name] = \"請洽默克窗口\"\n",
        "  elif Col_Name == \"SAPNOR\":\n",
        "    New_df[Col_Name] = New_df[Col_Name].apply(str)\n",
        "    for row in range(Number_row):\n",
        "      data = New_df.at[row, Col_Name]\n",
        "      if data in Rule_SAPNOR:\n",
        "        x = Rule_SAPNOR[data]\n",
        "        New_df.at[row, Col_Name] = x\n",
        "      else:\n",
        "        New_df.at[row, Col_Name] = \"-\"\n",
        "  elif Col_Name == \"IPURC\":\n",
        "    New_df[Col_Name] = New_df[Col_Name].apply(str)\n",
        "    for row in range(Number_row):\n",
        "      data = New_df.at[row, Col_Name]\n",
        "      if data in Rule_IPURC:\n",
        "        x = Rule_IPURC[data]\n",
        "        New_df.at[row, Col_Name] = x\n",
        "      elif data == \"0\":\n",
        "        New_df.at[row, Col_Name] = \"Blue\"\n",
        "      else:\n",
        "        New_df.at[row, Col_Name] = \"Blue\"    \n",
        "  else :\n",
        "    pass\n",
        "\n",
        "# Change Title\n",
        "# New_df = New_df.rename(Translation, axis=1)\n",
        "\n",
        "print(New_df.head().to_string())"
      ],
      "metadata": {
        "id": "84q-8GTphQ_Y",
        "colab": {
          "base_uri": "https://localhost:8080/"
        },
        "outputId": "82c65f8a-688d-4442-f9a9-42270c27020e"
      },
      "execution_count": 5,
      "outputs": [
        {
          "output_type": "stream",
          "name": "stdout",
          "text": [
            "Index(['IPROD', 'IDESC', 'IMNOT1', 'IDRAW', 'SAPSBU', 'ILIST', 'IMFRMC',\n",
            "       'IFCI', 'IMCMTH', 'SAPNOR', 'IPURC'],\n",
            "      dtype='object')\n",
            "(277900, 11)\n",
            "         IPROD                                     IDESC                                    IMNOT1       IDRAW                           SAPSBU ILIST         IMFRMC IFCI IMCMTH SAPNOR IPURC\n",
            "0  185450-100G  Phenol, unstabilized, ReagentPlus, >=99%  GUS: PHENOL, UNSTABILIZED, REAGENTPLUS(R    108-95-2  LSC_774 Chemical Synthesis - RC  2900  無管制_但請再確認注意事項   空運      -      -   Red\n",
            "1    I2215-25G                            5-INDANOL, 99%                       GUS: 5-INDANOL, 99%   1470-94-6  LSC_774 Chemical Synthesis - RC  3200  無管制_但請再確認注意事項   空運      -      -   Red\n",
            "2  110388-25ML                    BUTYLCYCLOHEXANE, 99+%                    BUTYLCYCLOHEXANE, 99+%   1678-93-9  LSC_774 Chemical Synthesis - RC  2600  無管制_但請再確認注意事項   空運      -      -   Red\n",
            "3    661384-1G  2-Iodoxybenzoic acid, stabilized (45 wt.  2-IODOXYBENZOIC ACID, STABILIZED (45 WT&  61717-82-6  LSC_774 Chemical Synthesis - RC  2300  無管制_但請再確認注意事項   空運      -      -   Red\n",
            "4    107891-1L                  2-ISOPROPOXYETHANOL, 99%             GUS: 2-ISOPROPOXYETHANOL, 99%    109-59-1  LSC_774 Chemical Synthesis - RC  2400  無管制_但請再確認注意事項   空運      -      -   Red\n"
          ]
        }
      ]
    },
    {
      "cell_type": "code",
      "source": [
        "# 4. save file as .csv and output.\n",
        "\n",
        "New_df.to_csv(path_or_buf = \"ProductData.csv\", sep = \",\", na_rep = \"\",\n",
        "      index = False, encoding = \"utf-8-sig\")\n",
        "\n",
        "Today = datetime.date.today()\n",
        "os.rename(\"/content/ProductData.csv\", f\"ProductData_{Today}.csv\")  \n",
        "files.download(f\"ProductData_{Today}.csv\")\n",
        "\n",
        "print(\"Finish\")"
      ],
      "metadata": {
        "id": "A5Vp7NnyLfzL",
        "colab": {
          "base_uri": "https://localhost:8080/",
          "height": 34
        },
        "outputId": "58f87c1c-7b7d-46ae-8fe3-ec62b38a52fd"
      },
      "execution_count": 11,
      "outputs": [
        {
          "output_type": "display_data",
          "data": {
            "text/plain": [
              "<IPython.core.display.Javascript object>"
            ],
            "application/javascript": [
              "\n",
              "    async function download(id, filename, size) {\n",
              "      if (!google.colab.kernel.accessAllowed) {\n",
              "        return;\n",
              "      }\n",
              "      const div = document.createElement('div');\n",
              "      const label = document.createElement('label');\n",
              "      label.textContent = `Downloading \"${filename}\": `;\n",
              "      div.appendChild(label);\n",
              "      const progress = document.createElement('progress');\n",
              "      progress.max = size;\n",
              "      div.appendChild(progress);\n",
              "      document.body.appendChild(div);\n",
              "\n",
              "      const buffers = [];\n",
              "      let downloaded = 0;\n",
              "\n",
              "      const channel = await google.colab.kernel.comms.open(id);\n",
              "      // Send a message to notify the kernel that we're ready.\n",
              "      channel.send({})\n",
              "\n",
              "      for await (const message of channel.messages) {\n",
              "        // Send a message to notify the kernel that we're ready.\n",
              "        channel.send({})\n",
              "        if (message.buffers) {\n",
              "          for (const buffer of message.buffers) {\n",
              "            buffers.push(buffer);\n",
              "            downloaded += buffer.byteLength;\n",
              "            progress.value = downloaded;\n",
              "          }\n",
              "        }\n",
              "      }\n",
              "      const blob = new Blob(buffers, {type: 'application/binary'});\n",
              "      const a = document.createElement('a');\n",
              "      a.href = window.URL.createObjectURL(blob);\n",
              "      a.download = filename;\n",
              "      div.appendChild(a);\n",
              "      a.click();\n",
              "      div.remove();\n",
              "    }\n",
              "  "
            ]
          },
          "metadata": {}
        },
        {
          "output_type": "display_data",
          "data": {
            "text/plain": [
              "<IPython.core.display.Javascript object>"
            ],
            "application/javascript": [
              "download(\"download_798b2725-504c-435f-aa78-596a9ad092e3\", \"ProductData_2022-07-23.csv\", 46416024)"
            ]
          },
          "metadata": {}
        },
        {
          "output_type": "stream",
          "name": "stdout",
          "text": [
            "Finish\n"
          ]
        }
      ]
    }
  ]
}