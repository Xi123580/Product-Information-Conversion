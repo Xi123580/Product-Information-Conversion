{
  "nbformat": 4,
  "nbformat_minor": 0,
  "metadata": {
    "colab": {
      "name": "Product Data Converter.ipynb",
      "provenance": [],
      "collapsed_sections": [],
      "authorship_tag": "ABX9TyOkRME8Kyk1HP59uaMg8v1o",
      "include_colab_link": true
    },
    "kernelspec": {
      "name": "python3",
      "display_name": "Python 3"
    },
    "language_info": {
      "name": "python"
    }
  },
  "cells": [
    {
      "cell_type": "markdown",
      "metadata": {
        "id": "view-in-github",
        "colab_type": "text"
      },
      "source": [
        "<a href=\"https://colab.research.google.com/github/Xi123580/Product-Information-Conversion/blob/main/Product_Data_Converter.ipynb\" target=\"_parent\"><img src=\"https://colab.research.google.com/assets/colab-badge.svg\" alt=\"Open In Colab\"/></a>"
      ]
    },
    {
      "cell_type": "code",
      "execution_count": null,
      "metadata": {
        "id": "g9ej7XMUO8Tt",
        "colab": {
          "base_uri": "https://localhost:8080/"
        },
        "outputId": "b4399515-60c0-4a18-907e-6d0266c79ff1"
      },
      "outputs": [
        {
          "output_type": "stream",
          "name": "stdout",
          "text": [
            "             IPROD                                     IDESC                IMNOT1       IDRAW  SAPSBU  ILIST IMFRMC IFCI IMCMTH SAPNOR IPURC\n",
            "0      618003.1566               Spectinomycin Hydrochloride             觀黴素鹽酸鹽標準品  22189-32-8   781.0  10600      .    A     M2      Y   M2D\n",
            "1     1.00327.5000  HYDROCHLORIC ACID IN ETHANOL FOR MICROSC          鹽酸標準液配製在乙醇溶液         NaN   649.0   8600    IVD    S    NaN    NaN   M2B\n",
            "2  EPV0045000.1566                  Vancomycin hydrochloride                鹽酸萬古黴素   1404-93-9   823.0   9800     FD    A    NaN    NaN   M2D\n",
            "3    P3850000.1566  Pseudoephedrine hydrochloride *Precursor  鹽酸假麻黃素標準品,第四級管制先驅原料藥         NaN   823.0  12400    DEA    A    NaN    NaN   M2D\n",
            "4    Y0000218.1566       Ondansetron hydrochloride dihydrate                鹽酸昂丹司瓊         NaN   823.0   9600     NC    A    NaN    NaN   M2D\n"
          ]
        }
      ],
      "source": [
        "import pandas as pd\n",
        "import numpy as np\n",
        "from time import perf_counter\n",
        "\n",
        "pd.set_option('max_columns', None)\n",
        "\n",
        "# 1. read file\n",
        "path = '/content/產品資訊_原始資料_欄位轉換表_資料轉換表_20220421_1.xlsx'\n",
        "df_rawData = pd.read_excel(path, sheet_name = 0)\n",
        "print(df_rawData.head().to_string())\n"
      ]
    },
    {
      "cell_type": "code",
      "source": [
        "# 2. Scan and fill in the new table according to the conversion rules\n",
        "\n",
        "# Page: 2\n",
        "df_column = pd.read_excel(path, sheet_name = 1)\n",
        "df_column = df_column.drop(columns = '原始資料欄位名稱', axis = 1)\n",
        "\n",
        "column_EN = []\n",
        "column_CH = []\n",
        "Translation = {}\n",
        "for i in range(len(df_column.columns[:])):\n",
        "  column_EN.append(df_column.columns[i])\n",
        "  column_CH.append(df_column.values[0][i])\n",
        "  Translation[column_EN[i]] = column_CH[i]\n",
        "print(Translation)"
      ],
      "metadata": {
        "id": "F7tJy1uU1px1",
        "colab": {
          "base_uri": "https://localhost:8080/"
        },
        "outputId": "db97c2d1-29ba-438e-e7f6-8cdd804dbb5d"
      },
      "execution_count": null,
      "outputs": [
        {
          "output_type": "stream",
          "name": "stdout",
          "text": [
            "{'IPROD': '產品編號', 'IDESC': '英文名稱', 'IMNOT1': '中文名稱', 'IDRAW': 'CAS Number', 'SAPSBU': '產品線', 'ILIST': '未稅定價', 'IMFRMC': '法規需求', 'IFCI': '運送方式', 'IMCMTH': '注意事項', 'SAPNOR': '停產資訊', 'IPURC': '產品分類'}\n"
          ]
        }
      ]
    },
    {
      "cell_type": "code",
      "source": [
        "# Page: 3~8\n",
        "def initial_sheet(Page:int):\n",
        "  df = pd.read_excel(path, sheet_name = Page, usecols = \"A, B\")\n",
        "  df.rename(columns={'原始資訊': 'Keys', '網頁呈現字眼': 'Values'}, inplace=True)\n",
        "  df = df.drop(0)\n",
        "  df = df.reset_index()\n",
        "  df = df.drop(columns='index')\n",
        "\n",
        "  column_SAPSBU = []\n",
        "  column_Product = []\n",
        "  ConvertDict = {}\n",
        "  for i in range(len(df.values[:])):\n",
        "    column_SAPSBU.append(df.values[i][0])\n",
        "    column_Product.append(df.values[i][1])\n",
        "    ConvertDict[column_SAPSBU[i]] = column_Product[i]\n",
        "  return(ConvertDict)"
      ],
      "metadata": {
        "id": "F-8l97HASYA5"
      },
      "execution_count": null,
      "outputs": []
    },
    {
      "cell_type": "code",
      "source": [
        "Rule_SAPSBU = initial_sheet(2)\n",
        "Rule_IMFRMC = initial_sheet(3)\n",
        "Rule_IMCMTH = initial_sheet(4)\n",
        "Rule_IFCI = initial_sheet(5)\n",
        "Rule_SAPNOR = initial_sheet(6)\n",
        "Rule_IPURC = initial_sheet(7)\n",
        "print(Rule_IFCI)\n",
        "print(Rule_IMCMTH)"
      ],
      "metadata": {
        "id": "Ai_jtrDCoiIK",
        "colab": {
          "base_uri": "https://localhost:8080/"
        },
        "outputId": "df49fd07-604c-4805-9a66-efb94a5856e7"
      },
      "execution_count": null,
      "outputs": [
        {
          "output_type": "stream",
          "name": "stdout",
          "text": [
            "{'A': '空運', 'AIR': '空運', 'C': '空運', 'L': '請洽默克窗口', 'N': '請洽默克窗口', nan: '請洽默克窗口', 'P': '空運', 'PAX': '空運', 'S': '海運', 'SEA': '海運', 'Y': '請洽默克窗口'}\n",
            "{7: '已停產', 99: '需法規審核', 'M1': '已停產', 'M2': '已停產', 'YY': '已停產'}\n"
          ]
        }
      ]
    },
    {
      "cell_type": "code",
      "source": [
        "# 3. build table\n",
        "start = perf_counter()  \n",
        "\n",
        "# Read RawData File\n",
        "New_df = df_rawData.copy()\n",
        "print(New_df.keys())\n",
        "print(New_df.shape)\n",
        "Number_columns = New_df.shape[1]\n",
        "Number_row = New_df.shape[0]\n",
        "New_df = New_df.fillna(0)\n",
        "\n",
        "# figure out table\n",
        "for col in range(Number_columns):\n",
        "  Col_Name = df_rawData.keys()[col]\n",
        "  if Col_Name == \"SAPSBU\":\n",
        "    New_df[Col_Name] = New_df[Col_Name].apply(int)\n",
        "    New_df[Col_Name] = New_df[Col_Name].apply(str)\n",
        "    for row in range(Number_row):\n",
        "      data = New_df.at[row, Col_Name]\n",
        "      if data in Rule_SAPSBU:\n",
        "        x = Rule_SAPSBU[data]\n",
        "        New_df.at[row, Col_Name] = x\n",
        "      else:\n",
        "        New_df.at[row, Col_Name] = \"-\"\n",
        "  elif Col_Name == \"IMFRMC\":\n",
        "    New_df[Col_Name] = New_df[Col_Name].apply(str)\n",
        "    for row in range(Number_row):\n",
        "      data = New_df.at[row, Col_Name]\n",
        "      if data in Rule_IMFRMC:\n",
        "        x = Rule_IMFRMC[data]\n",
        "        New_df.at[row, Col_Name] = x\n",
        "      elif data == \"0\":\n",
        "        New_df.at[row, Col_Name] = \"無管制_但請再確認注意事項\"\n",
        "      else:\n",
        "        New_df.at[row, Col_Name] = \"請洽默克窗口\"\n",
        "  elif Col_Name == \"IFCI\":\n",
        "    New_df[Col_Name] = New_df[Col_Name].apply(str)\n",
        "    for row in range(Number_row):\n",
        "      data = New_df.at[row, Col_Name]\n",
        "      if data in Rule_IFCI:\n",
        "        x = Rule_IFCI[data]\n",
        "        New_df.at[row, Col_Name] = x\n",
        "      elif data == \"0\":\n",
        "        New_df.at[row, Col_Name] = \"-\"\n",
        "      else:\n",
        "        New_df.at[row, Col_Name] = \"請洽默克窗口\"\n",
        "  elif Col_Name == \"IMCMTH\":\n",
        "    New_df[Col_Name] = New_df[Col_Name].apply(str)\n",
        "    for row in range(Number_row):\n",
        "      data = New_df.at[row, Col_Name]\n",
        "      if data in Rule_IMCMTH:\n",
        "        x = Rule_IMCMTH[data]\n",
        "        New_df.at[row, Col_Name] = x\n",
        "      elif data == \"0\":\n",
        "        New_df.at[row, Col_Name] = \"-\"\n",
        "      else:\n",
        "        New_df.at[row, Col_Name] = \"請洽默克窗口\"\n",
        "  elif Col_Name == \"SAPNOR\":\n",
        "    New_df[Col_Name] = New_df[Col_Name].apply(str)\n",
        "    for row in range(Number_row):\n",
        "      data = New_df.at[row, Col_Name]\n",
        "      if data in Rule_SAPNOR:\n",
        "        x = Rule_SAPNOR[data]\n",
        "        New_df.at[row, Col_Name] = x\n",
        "      else:\n",
        "        New_df.at[row, Col_Name] = \"-\"\n",
        "  elif Col_Name == \"IPURC\":\n",
        "    New_df[Col_Name] = New_df[Col_Name].apply(str)\n",
        "    for row in range(Number_row):\n",
        "      data = New_df.at[row, Col_Name]\n",
        "      if data in Rule_IPURC:\n",
        "        x = Rule_IPURC[data]\n",
        "        New_df.at[row, Col_Name] = x\n",
        "      elif data == \"0\":\n",
        "        New_df.at[row, Col_Name] = \"Blue\"\n",
        "      else:\n",
        "        New_df.at[row, Col_Name] = \"Blue\"    \n",
        "  else :\n",
        "    pass\n",
        "\n",
        "# Change Title\n",
        "New_df = New_df.rename(Translation, axis=1)\n",
        "\n",
        "print(New_df.head().to_string())"
      ],
      "metadata": {
        "id": "84q-8GTphQ_Y",
        "colab": {
          "base_uri": "https://localhost:8080/"
        },
        "outputId": "53d8a068-8e67-417f-f1c6-6d18ade79454"
      },
      "execution_count": null,
      "outputs": [
        {
          "output_type": "stream",
          "name": "stdout",
          "text": [
            "Index(['IPROD', 'IDESC', 'IMNOT1', 'IDRAW', 'SAPSBU', 'ILIST', 'IMFRMC',\n",
            "       'IFCI', 'IMCMTH', 'SAPNOR', 'IPURC'],\n",
            "      dtype='object')\n",
            "(100, 11)\n",
            "              產品編號                                      英文名稱                  中文名稱  CAS Number                             產品線   未稅定價                   法規需求 運送方式 注意事項 停產資訊  產品分類\n",
            "0      618003.1566               Spectinomycin Hydrochloride             觀黴素鹽酸鹽標準品  22189-32-8  LSB_781 Premier & Partnerships  10600          無管制_但請再確認注意事項   空運  已停產  已停產  Blue\n",
            "1     1.00327.5000  HYDROCHLORIC ACID IN ETHANOL FOR MICROSC          鹽酸標準液配製在乙醇溶液           0             DX_649 H & H - Blue   8600        醫療器材_需先查詢默克是否有證   海運    -    -  Blue\n",
            "2  EPV0045000.1566                  Vancomycin hydrochloride                鹽酸萬古黴素   1404-93-9       LSB_823 Non-LR4 Materials   9800         原料藥_需先查詢默克是否有證   空運    -    -  Blue\n",
            "3    P3850000.1566  Pseudoephedrine hydrochloride *Precursor  鹽酸假麻黃素標準品,第四級管制先驅原料藥           0       LSB_823 Non-LR4 Materials  12400  管制藥品_客戶需要有管制藥品證, 無法經銷   空運    -    -  Blue\n",
            "4    Y0000218.1566       Ondansetron hydrochloride dihydrate                鹽酸昂丹司瓊           0       LSB_823 Non-LR4 Materials   9600       新化學物質_需透過默克申請新化證   空運    -    -  Blue\n"
          ]
        }
      ]
    },
    {
      "cell_type": "code",
      "source": [
        "# Convert to large table and output\n",
        "Path_beta = \"/content/beta.csv\"\n",
        "Beta = pd.read_csv(Path_beta, header=0)\n",
        "Beta = pd.DataFrame(columns=Beta.columns)\n",
        "# print(Beta)\n",
        "\n",
        "Beta[\"屬性 1 值\"] = Beta[\"貨號\"] = New_df[\"產品編號\"]\n",
        "Beta[\"屬性 2 值\"] = Beta[\"名稱\"] = Beta[\"簡短內容說明\"] = New_df[\"英文名稱\"]\n",
        "Beta[\"屬性 3 值\"] = Beta[\"描述\"] = New_df[\"中文名稱\"]\n",
        "Beta[\"屬性 4 值\"] = New_df[\"CAS Number\"]\n",
        "Beta[\"屬性 5 值\"] = New_df[\"產品線\"]\n",
        "Beta[\"屬性 6 值\"] = New_df[\"法規需求\"]\n",
        "Beta[\"屬性 7 值\"] = New_df[\"注意事項\"]\n",
        "Beta[\"屬性 8 值\"] = New_df[\"運送方式\"]\n",
        "Beta[\"屬性 9 值\"] = New_df[\"停產資訊\"]\n",
        "Beta[\"屬性 10 值\"] = Beta[\"分類\"] = New_df[\"產品分類\"]\n",
        "Beta[\"原價\"] = New_df[\"未稅定價\"]\n",
        "Beta[\"已發佈\"] = Beta[\"有庫存？\"] = Beta[\"允許客戶評論嗎？\"] = \"1\"\n",
        "Beta[\"是特色商品？\"] = Beta[\"允許無庫存下單嗎？\"] = Beta[\"單獨銷售?\"] = Beta[\"位置\"] = \"0\"\n",
        "Beta[\"目錄的可見度\"] = \"visible\"\n",
        "Beta[\"稅金狀態\"] = \"taxable\"\n",
        "\n",
        "for X in range(1,11,1):\n",
        "  Beta[f\"屬性 {X} 可見\"] = \"1\"\n",
        "  Beta[f\"屬性 {X} 全域\"] = \"1\"\n",
        "\n",
        "PropertyNname = [\"產品編號\", \"英文名稱\", \"中文名稱\", \"CAS Number\", \"產品線\",\n",
        "          \"法規需求\", \"注意事項\", \"運送方式\", \"停產資訊\", \"產品分類\"]\n",
        "for X in range(1,11,1):\n",
        "  Beta[f\"屬性 {X} 名稱\"] = PropertyNname[(X-1)]\n",
        "\n",
        "\n",
        "# print(New_df.keys())\n",
        "print(Beta.head().to_string())"
      ],
      "metadata": {
        "id": "htCfSfxBy_RD",
        "colab": {
          "base_uri": "https://localhost:8080/"
        },
        "outputId": "689df376-d368-46b2-f91e-993f7d637df0"
      },
      "execution_count": null,
      "outputs": [
        {
          "output_type": "stream",
          "name": "stdout",
          "text": [
            "Empty DataFrame\n",
            "Columns: [代碼, 類型, 貨號, 名稱, 已發佈, 是特色商品？, 目錄的可見度, 簡短內容說明, 描述, 折扣價開始日期, 折扣價結束日期, 稅金狀態, 稅率類別, 有庫存？, 庫存, 低庫存量, 允許無庫存下單嗎？, 單獨銷售?, 重量 (kg), 長 (cm), 寬 (cm), 高 (cm), 允許客戶評論嗎？, 購買備註, 折扣價, 原價, 分類, 標籤, 運送類別, 圖片, 下載限制, 下載點過期天數, 上層, 組合商品, 追加銷售, 交叉銷售, 外部網址, 按鈕文字, 位置, 屬性 1 名稱, 屬性 1 值, 屬性 1 可見, 屬性 1 全域, 屬性 2 名稱, 屬性 2 值, 屬性 2 可見, 屬性 2 全域, 屬性 3 名稱, 屬性 3 值, 屬性 3 可見, 屬性 3 全域, 屬性 4 名稱, 屬性 4 值, 屬性 4 可見, 屬性 4 全域, 屬性 5 名稱, 屬性 5 值, 屬性 5 可見, 屬性 5 全域, 屬性 6 名稱, 屬性 6 值, 屬性 6 可見, 屬性 6 全域, 屬性 7 名稱, 屬性 7 值, 屬性 7 可見, 屬性 7 全域, 屬性 8 名稱, 屬性 8 值, 屬性 8 可見, 屬性 8 全域, 屬性 9 名稱, 屬性 9 值, 屬性 9 可見, 屬性 9 全域, 屬性 10 名稱, 屬性 10 值, 屬性10 可見, 屬性 10 全域]\n",
            "Index: []\n",
            "Index(['產品編號', '英文名稱', '中文名稱', 'CAS Number', '產品線', '未稅定價', '法規需求', '運送方式',\n",
            "       '注意事項', '停產資訊', '產品分類'],\n",
            "      dtype='object')\n",
            "    代碼   類型               貨號                                        名稱 已發佈 是特色商品？   目錄的可見度                                    簡短內容說明                    描述 折扣價開始日期 折扣價結束日期     稅金狀態 稅率類別 有庫存？   庫存 低庫存量 允許無庫存下單嗎？ 單獨銷售? 重量 (kg) 長 (cm) 寬 (cm) 高 (cm) 允許客戶評論嗎？ 購買備註  折扣價     原價    分類   標籤 運送類別   圖片 下載限制 下載點過期天數   上層 組合商品 追加銷售 交叉銷售 外部網址 按鈕文字 位置 屬性 1 名稱           屬性 1 值 屬性 1 可見 屬性 1 全域 屬性 2 名稱                                    屬性 2 值 屬性 2 可見 屬性 2 全域 屬性 3 名稱                屬性 3 值 屬性 3 可見 屬性 3 全域     屬性 4 名稱      屬性 4 值 屬性 4 可見 屬性 4 全域 屬性 5 名稱                          屬性 5 值 屬性 5 可見 屬性 5 全域 屬性 6 名稱                 屬性 6 值 屬性 6 可見 屬性 6 全域 屬性 7 名稱 屬性 7 值 屬性 7 可見 屬性 7 全域 屬性 8 名稱 屬性 8 值 屬性 8 可見 屬性 8 全域 屬性 9 名稱 屬性 9 值 屬性 9 可見 屬性 9 全域 屬性 10 名稱 屬性 10 值 屬性10 可見 屬性 10 全域 屬性 10 可見\n",
            "0  NaN  NaN      618003.1566               Spectinomycin Hydrochloride   1      0  visible               Spectinomycin Hydrochloride             觀黴素鹽酸鹽標準品     NaN     NaN  taxable  NaN    1  NaN  NaN         0     0     NaN    NaN    NaN    NaN        1  NaN  NaN  10600  Blue  NaN  NaN  NaN  NaN     NaN  NaN  NaN  NaN  NaN  NaN  NaN  0    產品編號      618003.1566       1       1    英文名稱               Spectinomycin Hydrochloride       1       1    中文名稱             觀黴素鹽酸鹽標準品       1       1  CAS Number  22189-32-8       1       1     產品線  LSB_781 Premier & Partnerships       1       1    法規需求          無管制_但請再確認注意事項       1       1    注意事項    已停產       1       1    運送方式     空運       1       1    停產資訊    已停產       1       1     產品分類    Blue     NaN        1        1\n",
            "1  NaN  NaN     1.00327.5000  HYDROCHLORIC ACID IN ETHANOL FOR MICROSC   1      0  visible  HYDROCHLORIC ACID IN ETHANOL FOR MICROSC          鹽酸標準液配製在乙醇溶液     NaN     NaN  taxable  NaN    1  NaN  NaN         0     0     NaN    NaN    NaN    NaN        1  NaN  NaN   8600  Blue  NaN  NaN  NaN  NaN     NaN  NaN  NaN  NaN  NaN  NaN  NaN  0    產品編號     1.00327.5000       1       1    英文名稱  HYDROCHLORIC ACID IN ETHANOL FOR MICROSC       1       1    中文名稱          鹽酸標準液配製在乙醇溶液       1       1  CAS Number           0       1       1     產品線             DX_649 H & H - Blue       1       1    法規需求        醫療器材_需先查詢默克是否有證       1       1    注意事項      -       1       1    運送方式     海運       1       1    停產資訊      -       1       1     產品分類    Blue     NaN        1        1\n",
            "2  NaN  NaN  EPV0045000.1566                  Vancomycin hydrochloride   1      0  visible                  Vancomycin hydrochloride                鹽酸萬古黴素     NaN     NaN  taxable  NaN    1  NaN  NaN         0     0     NaN    NaN    NaN    NaN        1  NaN  NaN   9800  Blue  NaN  NaN  NaN  NaN     NaN  NaN  NaN  NaN  NaN  NaN  NaN  0    產品編號  EPV0045000.1566       1       1    英文名稱                  Vancomycin hydrochloride       1       1    中文名稱                鹽酸萬古黴素       1       1  CAS Number   1404-93-9       1       1     產品線       LSB_823 Non-LR4 Materials       1       1    法規需求         原料藥_需先查詢默克是否有證       1       1    注意事項      -       1       1    運送方式     空運       1       1    停產資訊      -       1       1     產品分類    Blue     NaN        1        1\n",
            "3  NaN  NaN    P3850000.1566  Pseudoephedrine hydrochloride *Precursor   1      0  visible  Pseudoephedrine hydrochloride *Precursor  鹽酸假麻黃素標準品,第四級管制先驅原料藥     NaN     NaN  taxable  NaN    1  NaN  NaN         0     0     NaN    NaN    NaN    NaN        1  NaN  NaN  12400  Blue  NaN  NaN  NaN  NaN     NaN  NaN  NaN  NaN  NaN  NaN  NaN  0    產品編號    P3850000.1566       1       1    英文名稱  Pseudoephedrine hydrochloride *Precursor       1       1    中文名稱  鹽酸假麻黃素標準品,第四級管制先驅原料藥       1       1  CAS Number           0       1       1     產品線       LSB_823 Non-LR4 Materials       1       1    法規需求  管制藥品_客戶需要有管制藥品證, 無法經銷       1       1    注意事項      -       1       1    運送方式     空運       1       1    停產資訊      -       1       1     產品分類    Blue     NaN        1        1\n",
            "4  NaN  NaN    Y0000218.1566       Ondansetron hydrochloride dihydrate   1      0  visible       Ondansetron hydrochloride dihydrate                鹽酸昂丹司瓊     NaN     NaN  taxable  NaN    1  NaN  NaN         0     0     NaN    NaN    NaN    NaN        1  NaN  NaN   9600  Blue  NaN  NaN  NaN  NaN     NaN  NaN  NaN  NaN  NaN  NaN  NaN  0    產品編號    Y0000218.1566       1       1    英文名稱       Ondansetron hydrochloride dihydrate       1       1    中文名稱                鹽酸昂丹司瓊       1       1  CAS Number           0       1       1     產品線       LSB_823 Non-LR4 Materials       1       1    法規需求       新化學物質_需透過默克申請新化證       1       1    注意事項      -       1       1    運送方式     空運       1       1    停產資訊      -       1       1     產品分類    Blue     NaN        1        1\n"
          ]
        }
      ]
    },
    {
      "cell_type": "code",
      "source": [
        "# 4. save file as .csv and output.\n",
        "Beta.to_csv(path_or_buf = \"產品資訊_Zh-TW.csv\", sep = \",\", na_rep = \"\",\n",
        "       index = False, encoding = \"Big5\")\n",
        "\n",
        "end = perf_counter() \n",
        "print(end-start)"
      ],
      "metadata": {
        "id": "rtxTLuT6G8BV",
        "colab": {
          "base_uri": "https://localhost:8080/"
        },
        "outputId": "0a92aafe-1764-48ec-d33a-b4533afaa25a"
      },
      "execution_count": null,
      "outputs": [
        {
          "output_type": "stream",
          "name": "stdout",
          "text": [
            "0.2453308750000076\n"
          ]
        }
      ]
    }
  ]
}