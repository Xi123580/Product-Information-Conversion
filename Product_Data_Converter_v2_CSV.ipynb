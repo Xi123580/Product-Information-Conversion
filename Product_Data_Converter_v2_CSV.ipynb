{
  "nbformat": 4,
  "nbformat_minor": 0,
  "metadata": {
    "colab": {
      "provenance": [],
      "collapsed_sections": [
        "1CY4b2liHUZe",
        "qrsZfhoIMYbq"
      ],
      "authorship_tag": "ABX9TyMsxWh3yHbN4FV9jEp97xSH",
      "include_colab_link": true
    },
    "kernelspec": {
      "name": "python3",
      "display_name": "Python 3"
    },
    "language_info": {
      "name": "python"
    }
  },
  "cells": [
    {
      "cell_type": "markdown",
      "metadata": {
        "id": "view-in-github",
        "colab_type": "text"
      },
      "source": [
        "<a href=\"https://colab.research.google.com/github/Xi123580/Product-Information-Conversion/blob/main/Product_Data_Converter_v2_CSV.ipynb\" target=\"_parent\"><img src=\"https://colab.research.google.com/assets/colab-badge.svg\" alt=\"Open In Colab\"/></a>"
      ]
    },
    {
      "cell_type": "code",
      "execution_count": 1,
      "metadata": {
        "id": "g9ej7XMUO8Tt"
      },
      "outputs": [],
      "source": [
        "import pandas as pd\n",
        "import numpy as np\n",
        "# from time import perf_counter\n",
        "from google.colab import files\n",
        "import io\n",
        "# import time\n",
        "import datetime\n",
        "import os\n",
        "\n",
        "\n",
        "pd.set_option('max_columns', None)\n",
        "\n",
        "# 1. read file\n",
        "path = 'https://github.com/Xi123580/Product-Information-Conversion/blob/main/%E7%94%A2%E5%93%81%E8%B3%87%E8%A8%8A_%E5%8E%9F%E5%A7%8B%E8%B3%87%E6%96%99_%E6%AC%84%E4%BD%8D%E8%BD%89%E6%8F%9B%E8%A1%A8_%E8%B3%87%E6%96%99%E8%BD%89%E6%8F%9B%E8%A1%A8_20220421_1.xlsx?raw=true'\n",
        "df_rawData = pd.read_excel(path, sheet_name = 0)\n",
        "# print(df_rawData.head().to_string())\n"
      ]
    },
    {
      "cell_type": "code",
      "source": [
        "# Page: 3~8\n",
        "def initial_sheet(Page:int):\n",
        "  df = pd.read_excel(path, sheet_name = Page, usecols = \"A, B\", dtype=str)\n",
        "  df.rename(columns={'原始資訊': 'Keys', '網頁呈現字眼': 'Values'}, inplace=True)\n",
        "  df = df.drop(0)\n",
        "  df = df.reset_index()\n",
        "  df = df.drop(columns=\"index\")\n",
        "\n",
        "  column_SAPSBU = []\n",
        "  column_Product = []\n",
        "  ConvertDict = {}\n",
        "  for i in range(len(df.values[:])):\n",
        "    column_SAPSBU.append(df.values[i][0])\n",
        "    column_Product.append(df.values[i][1])\n",
        "    ConvertDict[column_SAPSBU[i]] = column_Product[i]\n",
        "  return(ConvertDict)"
      ],
      "metadata": {
        "id": "F-8l97HASYA5"
      },
      "execution_count": 2,
      "outputs": []
    },
    {
      "cell_type": "code",
      "source": [
        "Rule_SAPSBU = initial_sheet(2)\n",
        "Rule_IMFRMC = initial_sheet(3)\n",
        "Rule_IMCMTH = initial_sheet(4)\n",
        "Rule_IFCI = initial_sheet(5)\n",
        "Rule_SAPNOR = initial_sheet(6)\n",
        "Rule_IPURC = initial_sheet(7)\n",
        "\n",
        "Rule_IMCMTH.update({\"07\": \"已停產\"})\n",
        "# print(Rule_SAPSBU)\n",
        "# print(Rule_IMFRMC)\n",
        "# print(Rule_IMCMTH)\n",
        "# print(Rule_IFCI)\n",
        "# print(Rule_SAPNOR)\n",
        "# print(Rule_IPURC)"
      ],
      "metadata": {
        "id": "Ai_jtrDCoiIK",
        "colab": {
          "base_uri": "https://localhost:8080/"
        },
        "outputId": "8ec7ef52-83ef-4b67-e0a2-154c410061c8"
      },
      "execution_count": 3,
      "outputs": [
        {
          "output_type": "stream",
          "name": "stdout",
          "text": [
            "{'034': 'LSB_034 ELISAs & Specialty Assays', '035': 'DX_035 Detection systems and reagents', '036': 'DX_036 Dekalb CMO', '037': 'DX_037 Oligo Controls and Reference Materials', '052': 'AA_052 Extractions- F&F', '053': 'AA_053 Natural - F&F', '054': 'AA_054 Synthetics - F&F', '056': 'DX_056 Diagnostic Beads', '057': 'DX_057 Magprep', '058': 'DX_058 PROCLIN', '063': 'BM_063 In Process Testing Pharma', '064': 'BM_064 In Process Testing Food&Beverages', '065': 'BM_065 Release Testing Pharma', '066': 'BM_066 Release Testing Food&Beverages', '067': 'BM_067 Environmental Monitoring Pharma', '068': 'BM_068 Environmental Monitoring Food&Beverages', '069': 'BM_069 Media Sigma', '072': 'BM_072 In Process Products Medical', '073': 'BM_073 BioMonitoring Services', '077': 'PS-GENE_077 IP Outlicensing', '090': 'ConLab_090 Digital Lab Applications', '091': 'ConLab_091 BSSN Products', '092': 'ConLab_092 Other Digital Lab Platforms', '093': 'ConLab_093 Connected Lab Growth Initiatives', '480': 'LSC_480 Solvents for Research', '499': 'LSC_499 BioChem Core', '517': 'DX_517 Assay Development Services', '519': 'AA_519 Rapid Chemical Testing', '524': 'AA_524 Organic Analysis & Sensorics', '525': 'AA_525 Elemental Analysis', '526': 'AA_526 Solvents Instrumental Analysis', '527': 'AA_527 Analytical Technologies', '528': 'AA_528 Thin-Layer Chromatography', '529': 'AA_529 Mobile and Photometry Workflows', '530': 'AA_530 Endogenous Metabolites And Natural Products', '531': 'AA_531 Drugs & Metrological Institutes', '532': 'AA_532 Organic & Inorganic Contaminants', '533': 'AA_533 Additional, Phys Prop & Matrix', '534': 'AA_534 Endogenous Metabolites And Natural Products', '535': 'AA_535 Drugs & Metrological Institutes', '536': 'AA_536 Organic & Inorganic Contaminants', '537': 'AA_537 Additional, Phys Prop & Matrix', '538': 'AA_538 Sample Preparation Workflows', '539': 'AA_539 LPLC / Carbon', '540': 'AA_540 HPLC', '541': 'AA_541 Gas Chromatography', '542': 'AA_542 Analytical & General Lab Equipment', '604': 'DX_604 Light DX Kits', '605': 'LSB_605 Analytical Workflow Tools', '614': 'LSB_614 Protein Detection Instruments', '615': 'LSB_615 Licensing', '635': 'DX_635 Lateral Flow Membrane (CA)', '637': 'DX_637 Livingston CMO', '638': 'DX_638 OEM Roll Stock (CD)', '639': 'DX_639 Blood Typing (CE)', '640': 'DX_640 Diagnostic Bulk and Custom (CF)', '643': 'LW_643 Accessories', '644': 'LW_644 Consumables', '645': 'LW_645 Hardware', '646': 'LW_646 Rental', '647': 'LW_647 Instrument Services', '649': 'DX_649 H & H - Blue', '650': 'LSC_650 Organics', '653': 'PS-BP_653 Global Customer Training & BSN (NA)', '655': 'PS-BP_655 BioDevelopment and Manufacturing Support Services (RW)', '656': 'PS-BP_656 Mobius Disposable Assemblies (RS)', '657': 'PS-BP_657 Single-Use Bioreactors Assemblies (RX)', '658': 'PS-BP_658 Sterile Sampling (TG)', '660': 'PS-BP_660 Virus Removal Products (RE)', '662': 'PS-BP_662 Integrity Testers (RH)', '663': 'PS-BP_663 Clarification Products (RB)', '664': 'PS-BP_664 TFF Expendables (RC)', '666': 'PS-BP_666 Housings (RU)', '668': 'PS-BP_668 NovAseptic Systems Components (RT)', '669': 'PS-BP_669 AO Supplements', '670': 'PS-BP_670 NAO Supplements & Manufacturing Aids', '671': 'DX_671 Probumin (TD)', '674': 'PS-BP_674 Cell Culture Media', '677': 'PS-AF_677 Solid Application', '678': 'PS-AF_678 Liquid Application', '680': 'PS-AF_680 Advanced Drug Delivery', '682': 'PS-AF_682 Non-GMP Raw Materials - MM', '687': 'LSB_687 Concentration & Separation', '689': 'LSB_689 Cell & Screening Tools', '693': 'LSB_693 Multiplex Protein Detection', '694': 'LSB_694 Core Cell Culture', '696': 'LSB_696 Antibody Technologies', '698': 'LSB_698 BSM and Signaling Proteins', '702': 'LSC_702 Classical Inorganics for QC', '704': 'PS-E2E_704 BioDev&Mfg Supp Sol', '710': 'LSB_710 Molecular Prep & PCR', '711': 'DX_711 Meridian', '733': 'AA_733 POU Service', '736': 'LSC_736 Classical Solvents for QC', '737': 'LSC_737 Safety & Essentials', '738': 'PS-BP_738 Durapore Cartridges & Capsules', '739': 'PS-BP_739 Express Cartridges & Capsules', '740': 'PS-BP_740 Gas Cartridges & Capsules', '741': 'PS-BP_741 Pre/Depth Filter Cartridges & Capsules', '742': 'PS-BP_742 Mobius Disposable Mixing Assemblies', '743': 'PS-BP_743 Disposable Connectors', '744': 'PS-BP_744 Single-Use Systems Assemblies', '746': 'PS-BP_746 Equipment Installation and Qualification Services', '747': 'PS-BP_747 Equipment Maintenance Services', '748': 'PS-BP_748 Equipment Spare Parts', '749': 'PS-S_749 BioReliance Core Validation Services', '750': 'PS-S_750 BioReliance E&L Validation Services', '755': 'LSB_755 Roche & Alliances', '760': 'LSB_760 Protein Prep & Reagents', '766': 'LSB_766 SMC', '768': 'LSB_768 Specialty Cell Culture', '769': 'LSB_769 Cell Culture Sera', '773': 'LSC_773 Discovery Chemistry & Services', '774': 'LSC_774 Chemical Synthesis - RC', '775': 'LSC_775 Stable Isotopes', '777': 'LSC_777 Biochem Specialty & Kits', '778': 'LSC_778 Inorganics for Research', '780': 'LSC_780 Material Science', '781': 'LSB_781 Premier & Partnerships', '784': 'DX_784 MBS reagents', '785': 'PS-GENE_785 Cell Engineering', '787': 'DX_787 Oligos Manufacturing', '788': 'PS-GENE_788 Genome Editing Tools', '789': 'DX_789 CMO Rest of World', '790': 'DX_790 H & H - Red', '799': 'DX_799 Proligo Components', '800': 'LSB_800 Protein Detection Instrument Svs', '806': 'PS-BP_806 Dry Powder Media', '807': 'PS-BP_807 Growth Factors', '823': 'LSB_823 Non-LR4 Materials', '841': 'PS-BP_841 Final Fill', '842': 'PS-BP_842 Sera', '843': 'PS-BP_843 Custom Trypsin', '844': 'PS-BP_844 AO Trypsin', '845': 'PS-BP_845 Biopharmaceutical Expression Systems', '873': 'PS-S_873 Gene Tox Services', '877': 'PS-S_877 Biotesting Routine', '883': 'PS-S_883 Clearance Services', '894': 'DX_894 Cell Marque', '898': 'LSB_898 SMC Instrument Service', '920': 'AA_920 Solutions - F&F', '926': 'DX_926 Ewing CMO', '69E': 'LSB_69E Electrophoresis - WB', '89A': 'DX_89A OEM Cell Marque', 'NAS': 'PS-BP_NAS Natrix Separations', 'P01': 'PS-BP_P01 USP Chemicals MM', 'P02': 'PS-BP_P02 DSP Functional Chemicals MM', 'P03': 'PS-BP_P03 USP Chemicals SIAL', 'P04': 'PS-BP_P04 Powder Buffers SIAL', 'P05': 'PS-BP_P05 DSP Functional Chemicals SIAL', 'P06': 'PS-BP_P06 Processing Solutions SIAL', 'P07': 'PS-BP_P07 BioPharm Materials Specialty Chemicals SIAL', 'P08': 'PS-BP_P08 Standard Hardware', 'P09': 'PS-BP_P09 Custom Hardware', 'P10': 'PS-BP_P10 Powder Buffers MM', 'P11': 'PS-BP_P11 Processing Solutions MM', 'P12': 'PS-BP_P12 Immediate Advantage and Services', 'P13': 'PS-BP_P13 Upstream Liquids', 'P14': 'PS-BP_P14 Media Development Services', 'P15': 'PS-BP_P15 BioProcessing Software', 'P21': 'PS-BP_P21 Affinity Chromatography Media', 'P22': 'PS-BP_P22 IEX Chromatography Media', 'P23': 'PS-BP_P23 Inorganic Sorbents', 'P24': 'PS-BP_P24 Prepacked Columns', 'P31': 'PS-AF_P31 Folates & Innovative Technologies', 'P32': 'PS-AF_P32 Biopharm Ingredients', 'P33': 'PS-AF_P33 Cleaning in Place', 'P34': 'PS-AF_P34 API - MM', 'P35': 'PS-AF_P35 GMP Raw Materials - MM', 'P36': 'PS-AF_P36 Contract Manufacturing - MM', 'P41': 'PS-AF_P41 Potent Conjugates', 'P42': 'PS-AF_P42 Complex API', 'P43': 'PS-AF_P43 Non-Potent Conjugates', 'P44': 'PS-AF_P44 HPAPI', 'P45': 'PS-AF_P45 Linker/Payloads', 'P47': 'PS-AF_P47 Formulation - SIAL', 'P48': 'PS-AF_P48 GMP Raw Materials - SIAL', 'P49': 'PS-AF_P49 API - SIAL', 'P51': 'PS-AF_P51 Non GMP Raw Materials - SIAL', 'P57': 'PS-BP_P57 POC Entries PS', 'P60': 'PS-GENE_P60 FDS', 'P61': 'PS-GENE_P61 Cell Therapy', 'P62': 'PS-GENE_P62 Viral & Gene Therapy', 'P63': 'PS-S_P63 Cell Bank Manufacturing', 'P67': 'PS-BP_P67 Mobius Assemblies Transport and Storage Systems', 'P68': 'PS-BP_P68 Single-Use Bioreactors Systems (RX)', 'P69': 'PS-S_P69 Product Characterization', 'P70': 'PS-BP_P70 Mobius Disposable Mixing Systems', 'P71': 'PS-BP_P71 Single-Use Systems', 'P72': 'PS-AF_P72 PEGs', 'P73': 'PS-GENE_P73 Microbiome Services', 'P74': 'PS-AF_P74 mRNA', 'Q13': 'PS-E2E_Q13 Consultancy Services PS', 'RSP': 'PS-BP_RSP PAT Solutions', 'TTA': nan, 'XXE': nan, 'XXF': nan}\n",
            "{'\"': '無管制_但請再確認注意事項', '.': '無管制_但請再確認注意事項', '90': 'CD_請洽詢默克窗口', 'AGT': '石油相關產品_請洽詢默克窗口', 'BIO': '生物產品_客戶需申請進口許可函', 'BIONC': '生物產品+新化_客戶需申請進口許可函', 'CAB': '管制射頻(無線/藍芽)器材_需先查詢默克是否有證', 'DBT': '可拋棄容器_請洽詢默克窗口', 'DEA': '管制藥品_客戶需要有管制藥品證, 無法經銷', 'EP4': '第四類毒化物_客戶需有毒化物證', 'EPA': '毒化物_客戶需有毒化物證', 'FA': '食品添加物_需先查詢默克是否有證', 'FD': '原料藥_需先查詢默克是否有證', 'FDA': '食品添加物+原料藥_需先查詢默克是否有證', 'FDQOT': '原料藥+未變性酒精_需先查詢默克是否有證', 'HG': '具有危害性的關注化學物質_客戶需要申請核可文件', 'IVD': '醫療器材_需先查詢默克是否有證', 'IVDAB': '醫療器材+_需先查詢默克是否有證', 'NC': '新化學物質_需透過默克申請新化證', 'NIR': '待審核_請洽詢默克窗口', 'PRE': '先驅化學品甲類_終端客戶需申報', 'QOT': '未變性酒精_只銷售終端客戶', 'RA': '其他管制品項_請洽詢默克窗口', 'RANC': '其他管制品項+新化_請洽詢默克窗口', 'RAT': '限制輸入_請洽詢默克窗口', nan: '無管制_但請再確認注意事項'}\n",
            "{'7': '已停產', '99': '需法規審核', 'M1': '已停產', 'M2': '已停產', 'YY': '已停產', '07': '已停產'}\n",
            "{'A': '空運', 'AIR': '空運', 'C': '空運', 'L': '請洽默克窗口', 'N': '請洽默克窗口', nan: '請洽默克窗口', 'P': '空運', 'PAX': '空運', 'S': '海運', 'SEA': '海運', 'Y': '請洽默克窗口'}\n",
            "{'Y': '已停產', '   ': nan}\n",
            "{'M2A': 'Red', 'M2B': 'Blue', 'M2C': 'Blue', 'M2D': 'Blue', 'M2E': 'Blue', 'M2F': 'Blue', 'M2G': 'Blue', 'M2H': 'Blue', 'M2I': 'Blue', 'M2J': 'Blue', '   ': 'Blue'}\n"
          ]
        }
      ]
    },
    {
      "cell_type": "markdown",
      "source": [
        "# 上傳檔案"
      ],
      "metadata": {
        "id": "P_embNneGuLV"
      }
    },
    {
      "cell_type": "code",
      "source": [
        "# upload file\n",
        "print(\"請上傳CSV檔 (副檔名須為.csv): \")\n",
        "uploaded = files.upload()\n",
        "filename = next(iter(uploaded))\n",
        "A = uploaded.copy()"
      ],
      "metadata": {
        "id": "gwNu1X1PrXGX",
        "colab": {
          "resources": {
            "http://localhost:8080/nbextensions/google.colab/files.js": {
              "data": "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",
              "ok": true,
              "headers": [
                [
                  "content-type",
                  "application/javascript"
                ]
              ],
              "status": 200,
              "status_text": ""
            }
          },
          "base_uri": "https://localhost:8080/",
          "height": 93
        },
        "outputId": "8762c6a0-91ec-48a5-a3f0-b0a5158371cf"
      },
      "execution_count": 4,
      "outputs": [
        {
          "output_type": "stream",
          "name": "stdout",
          "text": [
            "請上傳CSV檔 (副檔名須為.csv): \n"
          ]
        },
        {
          "output_type": "display_data",
          "data": {
            "text/plain": [
              "<IPython.core.display.HTML object>"
            ],
            "text/html": [
              "\n",
              "     <input type=\"file\" id=\"files-52e93e85-d044-4000-ba15-ae371b7aafb9\" name=\"files[]\" multiple disabled\n",
              "        style=\"border:none\" />\n",
              "     <output id=\"result-52e93e85-d044-4000-ba15-ae371b7aafb9\">\n",
              "      Upload widget is only available when the cell has been executed in the\n",
              "      current browser session. Please rerun this cell to enable.\n",
              "      </output>\n",
              "      <script src=\"/nbextensions/google.colab/files.js\"></script> "
            ]
          },
          "metadata": {}
        },
        {
          "output_type": "stream",
          "name": "stdout",
          "text": [
            "Saving IIM_Product_List_utf8v2.csv to IIM_Product_List_utf8v2.csv\n"
          ]
        }
      ]
    },
    {
      "cell_type": "code",
      "source": [
        "A = pd.read_csv(io.BytesIO(uploaded.get(f'{filename}')), dtype=str, encoding = \"utf-8-sig\", skipinitialspace = True)\n",
        "# print(A[31650:31750][:].to_string())"
      ],
      "metadata": {
        "id": "c21KFtOJsbeP"
      },
      "execution_count": null,
      "outputs": []
    },
    {
      "cell_type": "code",
      "source": [
        "# 3. build table\n",
        "New_df = A.copy()\n",
        "\n",
        "print(New_df.keys())\n",
        "print(New_df.shape)\n",
        "Number_columns = New_df.shape[1]\n",
        "Number_row = New_df.shape[0]\n",
        "New_df = New_df.fillna(0)\n",
        "\n",
        "# figure out table\n",
        "for col in range(Number_columns):\n",
        "  Col_Name = df_rawData.keys()[col]\n",
        "  if Col_Name == \"SAPSBU\":\n",
        "    New_df[Col_Name] = New_df[Col_Name].apply(str)\n",
        "    for row in range(Number_row):\n",
        "      data = New_df.at[row, Col_Name].strip()\n",
        "      if data in Rule_SAPSBU:\n",
        "        x = Rule_SAPSBU[data]\n",
        "        New_df.at[row, Col_Name] = x\n",
        "      else:\n",
        "        New_df.at[row, Col_Name] = \"-\"\n",
        "  elif Col_Name == \"IMFRMC\":\n",
        "    New_df[Col_Name] = New_df[Col_Name].apply(str)\n",
        "    for row in range(Number_row):\n",
        "      data = New_df.at[row, Col_Name].strip()\n",
        "      if data in Rule_IMFRMC:\n",
        "        x = Rule_IMFRMC[data]\n",
        "        New_df.at[row, Col_Name] = x\n",
        "      elif data == \"0\" or data.isspace() or len(data) == 0:\n",
        "        New_df.at[row, Col_Name] = \"無管制_但請再確認注意事項\"\n",
        "      else:\n",
        "        New_df.at[row, Col_Name] = \"請洽默克窗口\"\n",
        "  elif Col_Name == \"IFCI\":\n",
        "    New_df[Col_Name] = New_df[Col_Name].apply(str)\n",
        "    for row in range(Number_row):\n",
        "      data = New_df.at[row, Col_Name].strip()\n",
        "      if data in Rule_IFCI:\n",
        "        x = Rule_IFCI[data]\n",
        "        New_df.at[row, Col_Name] = x\n",
        "      elif data == \"0\" or data.isspace() or len(data) == 0:\n",
        "        New_df.at[row, Col_Name] = \"-\"\n",
        "      else:\n",
        "        New_df.at[row, Col_Name] = \"請洽默克窗口\"\n",
        "  elif Col_Name == \"IMCMTH\":\n",
        "    New_df[Col_Name] = New_df[Col_Name].apply(str)\n",
        "    for row in range(Number_row):\n",
        "      data = New_df.at[row, Col_Name].strip()\n",
        "      if data in Rule_IMCMTH:\n",
        "        x = Rule_IMCMTH[data]\n",
        "        New_df.at[row, Col_Name] = x\n",
        "      elif data == \"0\" or data.isspace() or len(data) == 0:\n",
        "        New_df.at[row, Col_Name] = \"-\"\n",
        "      else:\n",
        "        New_df.at[row, Col_Name] = \"請洽默克窗口\"\n",
        "  elif Col_Name == \"SAPNOR\":\n",
        "    New_df[Col_Name] = New_df[Col_Name].apply(str)\n",
        "    for row in range(Number_row):\n",
        "      data = New_df.at[row, Col_Name].strip()\n",
        "      if data in Rule_SAPNOR:\n",
        "        x = Rule_SAPNOR[data]\n",
        "        New_df.at[row, Col_Name] = x\n",
        "      else:\n",
        "        New_df.at[row, Col_Name] = \"-\"\n",
        "  elif Col_Name == \"IPURC\":\n",
        "    New_df[Col_Name] = New_df[Col_Name].apply(str)\n",
        "    for row in range(Number_row):\n",
        "      data = New_df.at[row, Col_Name].strip()\n",
        "      if data in Rule_IPURC:\n",
        "        x = Rule_IPURC[data]\n",
        "        New_df.at[row, Col_Name] = x\n",
        "      elif data == \"0\" or data.isspace() or len(data) == 0:\n",
        "        New_df.at[row, Col_Name] = \"Blue\"\n",
        "      else:\n",
        "        New_df.at[row, Col_Name] = \"Blue\"    \n",
        "  else :\n",
        "    pass\n",
        "\n",
        "# Change Title\n",
        "# New_df = New_df.rename(Translation, axis=1)\n",
        "New_df = New_df[['IPROD', 'IDESC', 'IMNOT1', 'IDRAW', 'SAPSBU', 'ILIST', 'IMFRMC',\n",
        "       'IFCI', 'IMCMTH', 'SAPNOR', 'IPURC']]\n",
        "\n",
        "# print(New_df.head().to_string())"
      ],
      "metadata": {
        "id": "84q-8GTphQ_Y",
        "colab": {
          "base_uri": "https://localhost:8080/"
        },
        "outputId": "4445c8a6-7478-4aa4-f38e-31b89de700a7"
      },
      "execution_count": 10,
      "outputs": [
        {
          "output_type": "stream",
          "name": "stdout",
          "text": [
            "Index(['IPROD', 'IDESC', 'IMNOT1', 'IDRAW', 'SAPSBU', 'ILIST', 'IMFRMC',\n",
            "       'IFCI', 'IMCMTH', 'SAPNOR', 'IPURC'],\n",
            "      dtype='object')\n",
            "(279477, 11)\n"
          ]
        }
      ]
    },
    {
      "cell_type": "code",
      "source": [
        "# print(New_df[270000:][:].to_string())"
      ],
      "metadata": {
        "id": "WuQgZviuOrRU"
      },
      "execution_count": null,
      "outputs": []
    },
    {
      "cell_type": "code",
      "source": [
        "# 4. save file as .csv and output.\n",
        "\n",
        "New_df.to_csv(path_or_buf = \"ProductData.csv\", sep = \",\", na_rep = \"\",\n",
        "      index = False, encoding = \"utf-8-sig\")\n",
        "\n",
        "Today = datetime.date.today()\n",
        "os.rename(\"/content/ProductData.csv\", f\"ProductData_{Today}.csv\")  \n",
        "files.download(f\"ProductData_{Today}.csv\")\n",
        "\n",
        "print(\"Finish\")"
      ],
      "metadata": {
        "id": "A5Vp7NnyLfzL"
      },
      "execution_count": null,
      "outputs": []
    }
  ]
}